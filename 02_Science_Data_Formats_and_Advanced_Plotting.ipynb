{
 "cells": [
  {
   "attachments": {},
   "cell_type": "markdown",
   "metadata": {},
   "source": [
    "# Lesson 2: Scientific Data Formats and Advanced Plotting\n",
    "\n",
    "Author: Rebekah Esmaili (rebekah@stcnet.com)\n",
    " \n",
    "---\n",
    "\n",
    "## Lesson Objectives\n",
    "* You will learn to:\n",
    "    * Import relevant packages for scientific programming\n",
    "    * Read netCDF files\n",
    "    * Creating plots and maps\n",
    "   \n",
    "\n",
    "![](img/flowchart.png)"
   ]
  },
  {
   "attachments": {},
   "cell_type": "markdown",
   "metadata": {},
   "source": [
    "\n",
    "## Importing NetCDF files\n",
    "\n",
    "NetCDF and HDF are self-describing formats, which are structured binary data files and useful for storing other big datasets. Computationally, it is faster to read in binary-based datasets than text, which needs to be parsed before being stored in a computer’s memory. Because the files are more compact, they are cheaper to store large, long-term satellite data. Furthermore, information about the data (\"metadata\") can be stored inside the file themselves.\n",
    "\n",
    "Many environmental dataset names are quite long. However, the dataset name is encoded to give us information about the contents. For example:\n",
    "\n",
    "```\n",
    "JRR-AOD_v2r3_j01_s202304220518119_e202304220519346_c202304220600390.nc\n",
    "```\n",
    "You can learn several important features of the dataset without opening it:\n",
    "\n",
    "* Prefix indicates the mission (JRR, for JPSS Risk Reduction)\n",
    "* Product (Aerosol Optical Depth, or AOD), algorithm version\n",
    "* Revision number (v2r3)\n",
    "* Satellite source (j01 for JPSS-1/NOAA-20)\n",
    "* Start (s), end (e), and creation (c) time, which are each followed by the year, month, day, hour, minute, and seconds (to one decimal place). \n",
    "\n",
    "First, import three commonly used packages in Python:"
   ]
  },
  {
   "cell_type": "code",
   "execution_count": null,
   "metadata": {},
   "outputs": [],
   "source": [
    "import numpy as np\n",
    "import pandas as pd\n",
    "import matplotlib.pyplot as plt"
   ]
  },
  {
   "attachments": {},
   "cell_type": "markdown",
   "metadata": {},
   "source": [
    "To begin, you need to first import [xarray](http://xarray.pydata.org/en/stable/io.html) which is tailored to open netCDF4 files and work with large arrays (like numpy and pandas). The [netCDF4 package](https://unidata.github.io/netcdf4-python/netCDF4/index.html) can also be used to import files. The [h5netcdf](https://github.com/h5netcdf/h5netcdf) is useful because it combines features of both netcdf4 and h5py so you can use one reader for two different file types."
   ]
  },
  {
   "cell_type": "code",
   "execution_count": null,
   "metadata": {},
   "outputs": [],
   "source": [
    "import xarray as xr\n",
    "import h5netcdf"
   ]
  },
  {
   "attachments": {},
   "cell_type": "markdown",
   "metadata": {},
   "source": [
    "Use the open_dataset function to import the above dataset. The engine option is used to read the files. Some possible file readers are \"netcdf4\", \"scipy\", \"pydap\", \"h5netcdf\", \"pynio\", \"cfgrib\", \"pseudonetcdf\", \"zarr\" but you also must have the packages installed.  "
   ]
  },
  {
   "cell_type": "code",
   "execution_count": null,
   "metadata": {},
   "outputs": [],
   "source": [
    "fname='data/JRR-AOD_v2r3_j01_s202304220518119_e202304220519346_c202304220600390.nc'\n",
    "aod_file_id = xr.open_dataset(fname, engine='h5netcdf')"
   ]
  },
  {
   "attachments": {},
   "cell_type": "markdown",
   "metadata": {},
   "source": [
    "If you print the contents of the file_id variable, you will get a long list of the global attributes, variables, dimensions, and much more."
   ]
  },
  {
   "cell_type": "code",
   "execution_count": null,
   "metadata": {},
   "outputs": [],
   "source": [
    "aod_file_id"
   ]
  },
  {
   "attachments": {},
   "cell_type": "markdown",
   "metadata": {},
   "source": [
    "The output above is worth inspecting. Inside Jupyter Notebooks, xarray allows you to inspect the file contents. Clicking on the arrows will show a preview of the metadata. Note that you can also use tools like [Panoply](https://www.giss.nasa.gov/tools/panoply/) to inspect the contents of the netCDF file outside of Python.\n",
    "\n",
    "* ```Dimensions```: The dimensions are named ```Rows``` and ```Columns```, which are respectively 768 and 3200.\n",
    "\n",
    "* ```Coordinates```: The coordinates are ```Latitude``` and ```Longitude```. These are both two dimensions.\n",
    "\n",
    "* ```Variables```: This file has only one variable, which is ```AOD550```. Its dimensions are also ```Rows``` and ```Columns```.\n",
    "\n",
    "Attributes: netCDF4 [CF-1.5 conventions](https://cfconventions.org/). Some of the information that we saw in the file name is also present: this product is the *JPSS Risk Reduction Unique Aerosol Optical Depth* (title) *Level 2* product (processing_level) and the data was collected from the *NOAA-20* (satellite_name) *VIIRS* instrument (instrument_name). The *start* (time_coverage_start) and *end* times (time_coverage_end) metadata fields are consistent with the filename. I recommend that you read netCDF file header contents, especially the first time you are working with new data. "
   ]
  },
  {
   "attachments": {},
   "cell_type": "markdown",
   "metadata": {},
   "source": [
    "AOD is a unitless measure of the extinction of solar radiation by particles suspended in the atmosphere. High values of AOD can indicate the presence of dust, smoke, or another air pollutant while low values indicate a cleaner atmosphere. You can learn more about the AOD algorithm on the [NOAA STAR website](https://www.star.nesdis.noaa.gov/goesr/product_aero_aod.php).\n",
    "\n",
    "Xarray syntax will resemble both ```Pandas``` and ```NumPy```. Unlike numpy, N-D arrays can be labeled. Instead of having to remember index numbers, we can extract elements using their coordinate or variable names.\n",
    "\n",
    "Below I'll extract three important variables: AOD550, Latitude, and Longitude:"
   ]
  },
  {
   "cell_type": "code",
   "execution_count": null,
   "metadata": {},
   "outputs": [],
   "source": [
    "AOD_550 = aod_file_id['AOD550']\n",
    "AOD_lat = aod_file_id['Latitude']\n",
    "AOD_lon = aod_file_id['Longitude']"
   ]
  },
  {
   "attachments": {},
   "cell_type": "markdown",
   "metadata": {},
   "source": [
    "Let's print AOD_550 below. This variable contains only a portion of the original data array:"
   ]
  },
  {
   "cell_type": "code",
   "execution_count": null,
   "metadata": {},
   "outputs": [],
   "source": [
    "AOD_550.values"
   ]
  },
  {
   "attachments": {},
   "cell_type": "markdown",
   "metadata": {},
   "source": [
    "Xarray uses NumPy as a dependency so so we can use numpy functions like ```.mean()```. First, we have to make sure it's in the right format. If you check the type of ```AOD_550```, you can see it's a ```numpy.ndarray```."
   ]
  },
  {
   "cell_type": "code",
   "execution_count": null,
   "metadata": {},
   "outputs": [],
   "source": [
    "type(AOD_550.values)"
   ]
  },
  {
   "attachments": {},
   "cell_type": "markdown",
   "metadata": {},
   "source": [
    "Xarray handles missing data automatically, so if we do statistics on the array, it will not include them:"
   ]
  },
  {
   "cell_type": "code",
   "execution_count": null,
   "metadata": {},
   "outputs": [],
   "source": [
    "avgAOD = AOD_550.mean()\n",
    "print(avgAOD)"
   ]
  },
  {
   "attachments": {},
   "cell_type": "markdown",
   "metadata": {},
   "source": [
    "For practice, we'll import a Sea Surface Temperature (SST) dataset from GOES-18. You can learn more about the SST dataset on the [NOAA STAR website](https://www.star.nesdis.noaa.gov/goesr/product_sst.php).\n",
    "\n",
    "---\n",
    "### Exercise 1 Importing netCDF files\n",
    "1. Open the file ```data/OR_ABI-L2-SSTF-M6_G18_s20231122000211_e20231122059519_c20231122105091.nc``` using the xarray library\n",
    "2. Print the variable names\n",
    "3. What are the dimensions?\n",
    "---\n",
    "\n",
    "**Solution:**"
   ]
  },
  {
   "cell_type": "code",
   "execution_count": null,
   "metadata": {},
   "outputs": [],
   "source": []
  },
  {
   "attachments": {},
   "cell_type": "markdown",
   "metadata": {},
   "source": [
    "## Importing HDF files\n",
    "HDF files are also common in Earth Sciences. HDF5 is a general-purpose data format, while netCDF4 was designed for storing array-oriented scientific data. Tools like xarray can open HDF5 files if you have helper packages also installed (e.g. ```h5netcdf```).\n",
    "\n",
    "HDF5 files often are organized into groups, which you can think of as subdirectories to organize the data inside the file. Xarray can open grouped data, but it does not support printing out the various structures in the file. We can use the ```h5py``` package to do so. The syntax is slightly different, but the steps are similar."
   ]
  },
  {
   "cell_type": "code",
   "execution_count": null,
   "metadata": {},
   "outputs": [],
   "source": [
    "import h5py\n",
    "\n",
    "filename = 'data/SVM16_j01_d20230422_t0516461_e0518106_b28103_c20230422055438143201_oeac_ops.h5'\n",
    "f = h5py.File(filename, 'r')"
   ]
  },
  {
   "attachments": {},
   "cell_type": "markdown",
   "metadata": {},
   "source": [
    "We can use the ```visit``` command to find the contents of the HDF5 file. Visit requires us to pass a function, we will use print."
   ]
  },
  {
   "cell_type": "code",
   "execution_count": null,
   "metadata": {},
   "outputs": [],
   "source": [
    "f.visit(print)"
   ]
  },
  {
   "attachments": {},
   "cell_type": "markdown",
   "metadata": {},
   "source": [
    "Another way to do this is combining the ```list``` and ```keys()``` commands:"
   ]
  },
  {
   "cell_type": "code",
   "execution_count": null,
   "metadata": {},
   "outputs": [],
   "source": [
    "dset_all = f['Data_Products/VIIRS-M16-SDR']\n",
    "list(dset_all.keys())"
   ]
  },
  {
   "attachments": {},
   "cell_type": "markdown",
   "metadata": {},
   "source": [
    "Once we know the groups, we can pass that into xarray using the group argument (```group='All_Data/VIIRS-M16-SDR_All'```). This dataset has \"phony\" dimensions, which do not correspond to the physical dimensions of the data. This file does not have coordinates (lat/lon or x/y) values because they are stored in a separate file. We won't use this data any further, but it's here to walk through the steps."
   ]
  },
  {
   "cell_type": "code",
   "execution_count": null,
   "metadata": {},
   "outputs": [],
   "source": [
    "ds_all = xr.open_dataset(filename, engine='h5netcdf', group='All_Data/VIIRS-M16-SDR_All')\n",
    "ds_all"
   ]
  },
  {
   "attachments": {},
   "cell_type": "markdown",
   "metadata": {},
   "source": [
    "## Plotting 3-dimensional Data\n",
    "\n",
    "So far, we have only made line and scatter plots. Matplotlib also supports plotting spatial datasets. However, we often have to perform several array operations to ensure the x, y, and z coordinates are the same shape. Let's work with a Reflected Shortwave Radiation (RSR) dataset in the next example and make a 3D plot. To learn more, visit the [NOAA STAR](https://www.star.nesdis.noaa.gov/goesr/product_sw.php) page. Below is the file that we will import:\n",
    "\n",
    "```\n",
    "data/OR_ABI-L2-RSRF-M6_G16_s20231121800204_e20231121809512_c20231121859124.nc\n",
    "```"
   ]
  },
  {
   "cell_type": "code",
   "execution_count": null,
   "metadata": {},
   "outputs": [],
   "source": [
    "filename = 'data/OR_ABI-L2-RSRF-M6_G16_s20231121800204_e20231121809512_c20231121859124.nc'\n",
    "abi_L2_RSR = xr.open_dataset(filename, engine='h5netcdf')"
   ]
  },
  {
   "attachments": {},
   "cell_type": "markdown",
   "metadata": {},
   "source": [
    "Like before, you can inspect the contents by typing the variable name:"
   ]
  },
  {
   "cell_type": "code",
   "execution_count": null,
   "metadata": {},
   "outputs": [],
   "source": [
    "abi_L2_RSR"
   ]
  },
  {
   "attachments": {},
   "cell_type": "markdown",
   "metadata": {},
   "source": [
    "From the printed information above, we can see the following:\n",
    "\n",
    "* __Dimensions__: The dimensions are named ```lat``` and ```lon```, both have the size of 652. There are several additional dimensions (number_of_time_bounds, number_of_image_bounds, number_of_LZA_bounds, number_of_SZA_bounds, number_of_wavelength_bounds) that we won't use in this tutorial.\n",
    "\n",
    "* __Coordinates__: ```lat``` and ```lon```, which are both one dimensional.\n",
    "\n",
    "* __Data Variables__: Has 39 variables, we'll focus on ```RSR```.\n",
    "\n",
    "Below you can import the data values into variables:"
   ]
  },
  {
   "cell_type": "code",
   "execution_count": null,
   "metadata": {},
   "outputs": [],
   "source": [
    "lat_rsr = abi_L2_RSR['lat'].values\n",
    "lon_rsr = abi_L2_RSR.lon.values\n",
    "rsr = abi_L2_RSR.RSR.values"
   ]
  },
  {
   "attachments": {},
   "cell_type": "markdown",
   "metadata": {},
   "source": [
    "Let's inspect the shape and see if the data are already formatted for plotting:"
   ]
  },
  {
   "cell_type": "code",
   "execution_count": null,
   "metadata": {},
   "outputs": [],
   "source": [
    "rsr.shape, lat_rsr.shape, lon_rsr.shape"
   ]
  },
  {
   "attachments": {},
   "cell_type": "markdown",
   "metadata": {},
   "source": [
    "Contour plots and mesh plots are two useful ways of looking at 3-dimensional data. Both plots require the x, y, and z coordinates to have the same 2D grid. \n",
    "\n",
    "You can use ```np.meshgrid()``` to project the 1-dimensional x and y coordinates into two dimensions. The function is a little confusing at first, so I'll show a simple example. Suppose you have two simple arrays:"
   ]
  },
  {
   "cell_type": "code",
   "execution_count": null,
   "metadata": {},
   "outputs": [],
   "source": [
    "tmp_x = [1,2]\n",
    "tmp_y = [3,4,5]"
   ]
  },
  {
   "attachments": {},
   "cell_type": "markdown",
   "metadata": {},
   "source": [
    "```tmp_x``` has two elements and ```tmp_y``` has three. If you create a mesh of the two variables, there will be two variables, both with 3 rows and 2 columns: "
   ]
  },
  {
   "cell_type": "code",
   "execution_count": null,
   "metadata": {},
   "outputs": [],
   "source": [
    "np.meshgrid(tmp_x, tmp_y)"
   ]
  },
  {
   "cell_type": "code",
   "execution_count": null,
   "metadata": {},
   "outputs": [],
   "source": [
    "x2d, y2d = np.meshgrid(tmp_x, tmp_y)"
   ]
  },
  {
   "cell_type": "code",
   "execution_count": null,
   "metadata": {},
   "outputs": [],
   "source": [
    "y2d.shape"
   ]
  },
  {
   "attachments": {},
   "cell_type": "markdown",
   "metadata": {},
   "source": [
    "Returning to the example, below is the meshgrid of the 1-dimensional latitude and longitude coordinates:"
   ]
  },
  {
   "cell_type": "code",
   "execution_count": null,
   "metadata": {},
   "outputs": [],
   "source": [
    "X_rsr, Y_rsr = np.meshgrid(lon_rsr, lat_rsr)"
   ]
  },
  {
   "attachments": {},
   "cell_type": "markdown",
   "metadata": {},
   "source": [
    "Before plotting, you need to check if all the dimensions match. However, after comparing the shape of co to X_co, you can see that the dimensions are flipped:"
   ]
  },
  {
   "cell_type": "code",
   "execution_count": null,
   "metadata": {},
   "outputs": [],
   "source": [
    "rsr.shape, X_rsr.shape"
   ]
  },
  {
   "attachments": {},
   "cell_type": "markdown",
   "metadata": {},
   "source": [
    "We've already learned how to use ```plt.subplot()``` to generate the empty figure (```fig```) and axis (```ax```). \n",
    "\n",
    "One line 2, you call ```ax.contourf``` and input the X_co, Y_co, and transposed co variables. co acts as a color value, which becomes the third dimension of the plot. You then store this object into a variable ```rsr_plot``` so that you can pass it into ```ax.colorbar``` to map the colors to numeric values."
   ]
  },
  {
   "cell_type": "code",
   "execution_count": null,
   "metadata": {},
   "outputs": [],
   "source": [
    "# contourf\n",
    "fig = plt.figure(figsize=[5,5])\n",
    "ax1 = plt.subplot(111)\n",
    "rsr_plot = ax1.contourf(X_rsr, Y_rsr, rsr)\n",
    "fig.colorbar(rsr_plot, orientation='horizontal', ax=ax1)\n",
    "plt.show()"
   ]
  },
  {
   "attachments": {},
   "cell_type": "markdown",
   "metadata": {},
   "source": [
    "Like contour plots, mesh plots are also 2-dimensional plots that display 3-dimensions of information using x and y coordinates, and z for a color scale. However, mesh plots do not perform any smoothing and display data as-is on a regular grid. However, since many satellite datasets are swath-based, irregularly spaced data needs to be re-gridded to display it as a mesh grid. In the code block below, let’s compare how the plot looks using pcolormesh command with the previous example using contour. The code below has no other changes to the plot other than the call to the plot type."
   ]
  },
  {
   "cell_type": "code",
   "execution_count": null,
   "metadata": {},
   "outputs": [],
   "source": [
    "#pcolormesh\n",
    "fig = plt.figure(figsize=[5,5])\n",
    "ax = plt.subplot(111)\n",
    "sst_plot = ax.pcolormesh(X_rsr, Y_rsr, rsr)\n",
    "fig.colorbar(sst_plot, orientation='horizontal')\n",
    "plt.show()"
   ]
  },
  {
   "attachments": {},
   "cell_type": "markdown",
   "metadata": {},
   "source": [
    "You might notice that there is more structure in the mesh plot than in the filled contour. This is useful if you wish to examine fine structures and patterns.\n",
    "\n",
    "---\n",
    "### Exercise 2: Plot 3-dimensional data\n",
    "\n",
    "Plot ```x```, ```y```, and ```SST``` variables from the ```sst_file_id``` file we opened in Example 1.\n",
    "\n",
    "1. Extract the variables from the file and assign to three variables \n",
    "2. Check the dimensions for all variables using ```.shape```.\n",
    "3. Do you need to generate a meshgrid with ```np.meshgrid()```?\n",
    "4. Create a contour plot\n",
    "\n",
    "\n",
    "---\n",
    "**Solution:**"
   ]
  },
  {
   "cell_type": "code",
   "execution_count": null,
   "metadata": {},
   "outputs": [],
   "source": []
  },
  {
   "attachments": {},
   "cell_type": "markdown",
   "metadata": {},
   "source": [
    "## Adding maps to plots\n",
    "\n",
    "The package [Cartopy](https://scitools.org.uk/cartopy/docs/latest/) add mapping functionality to Matplotlib. Cartopy provides an interface to obtain continent, country, and feature details to overlay onto your plot. Furthermore, Cartopy also enables you to convert your data from one map projection to another, which requires a cartesian coordinate system to the map coordinates. Matplotlib natively supports the six mathematical and map projections (Aitoff, Hammer, Lambert, Mollweide, polar, and rectilinear) and combined with Cartopy, data can be transformed to a total of 33 possible projections."
   ]
  },
  {
   "cell_type": "code",
   "execution_count": null,
   "metadata": {},
   "outputs": [],
   "source": [
    "from cartopy import crs as ccrs"
   ]
  },
  {
   "attachments": {},
   "cell_type": "markdown",
   "metadata": {},
   "source": [
    "Just like before, we need to convert the 1D lat and lon coordinates to 2D using meshgrid. We can check the shape to ensure all variables have the same dimensions."
   ]
  },
  {
   "cell_type": "code",
   "execution_count": null,
   "metadata": {},
   "outputs": [],
   "source": [
    "fig = plt.figure()\n",
    "ax = plt.subplot(projection=ccrs.PlateCarree())\n",
    "\n",
    "tmp = ax.contourf(AOD_lon, AOD_lat, AOD_550, levels=np.arange(0, 1.1, 0.1))\n",
    "fig.colorbar(tmp, orientation='horizontal')\n",
    "# ax.set_extent([100, 180, -35, 0])\n",
    "\n",
    "ax.coastlines('50m')\n",
    "plt.show()"
   ]
  },
  {
   "attachments": {},
   "cell_type": "markdown",
   "metadata": {},
   "source": [
    "In the next example, you can switch from Plate Carrée to Orthographic. You must define the projection twice, once in the ```projection=``` keyword and again in the ```transform=```. In the ```plt.subplot``` line, you must define the to coordinates (```ccrs.Orthographic```), which is how you want to axes to show the data. In the ```ax.scatter``` line, you use the transform keyword argument in scatter to define the from coordinates (Plate Carrée), which are the coordinates that the data formatted for.\n",
    "\n",
    "__NOTE__: The next plot may take a few minutes to generate."
   ]
  },
  {
   "cell_type": "code",
   "execution_count": null,
   "metadata": {},
   "outputs": [],
   "source": [
    "fig = plt.figure(figsize=[10,5])\n",
    "ax = plt.subplot(projection=ccrs.Orthographic(90, 0))\n",
    "ax.set_global()\n",
    "\n",
    "ax.contourf(AOD_lon, AOD_lat, AOD_550, transform=ccrs.PlateCarree())\n",
    "\n",
    "ax.coastlines()\n",
    "plt.show()"
   ]
  },
  {
   "attachments": {},
   "cell_type": "markdown",
   "metadata": {},
   "source": [
    "---\n",
    "### Exercise 3 Adding maps to plots\n",
    "\n",
    "Using ```lat_rsr```, ```lon_rsr```, and ```rsr``` (which we imported from the ```OR_ABI-L2-RSRF-M6_G18_...``` netCDF file):\n",
    "\n",
    "1. Create a ```contourf``` plot (same as Exercise 2)\n",
    "2. Add the coastlines to Plate Carree plot using ```projection=``` option.\n",
    "\n",
    "---\n",
    "**Solution**:"
   ]
  },
  {
   "cell_type": "code",
   "execution_count": null,
   "metadata": {},
   "outputs": [],
   "source": []
  },
  {
   "attachments": {},
   "cell_type": "markdown",
   "metadata": {},
   "source": [
    "## Summary:\n",
    "\n",
    "You learned:\n",
    "\n",
    "* How to import netCDF4, a scientific dataset\n",
    "* Worked with arrays and lists\n",
    "* How to create simple maps\n",
    "\n",
    "Next lesson:\n",
    "* Obtain datasets from remote sources\n",
    "* Save data into text and binary files, and plots as images"
   ]
  }
 ],
 "metadata": {
  "kernelspec": {
   "display_name": "Python 3 (ipykernel)",
   "language": "python",
   "name": "python3"
  },
  "language_info": {
   "codemirror_mode": {
    "name": "ipython",
    "version": 3
   },
   "file_extension": ".py",
   "mimetype": "text/x-python",
   "name": "python",
   "nbconvert_exporter": "python",
   "pygments_lexer": "ipython3",
   "version": "3.9.16"
  },
  "vscode": {
   "interpreter": {
    "hash": "4589143d4cda0c8671911bd60c16dc1d10ec327722e7574bc882b745b51509b4"
   }
  }
 },
 "nbformat": 4,
 "nbformat_minor": 2
}
